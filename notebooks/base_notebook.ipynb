{
 "cells": [
  {
   "cell_type": "markdown",
   "id": "d8710270",
   "metadata": {},
   "source": [
    "# Imports and loading data"
   ]
  },
  {
   "cell_type": "code",
   "execution_count": 17,
   "id": "ac33a4c9",
   "metadata": {},
   "outputs": [
    {
     "name": "stdout",
     "output_type": "stream",
     "text": [
      "Directory already changed to: /Users/adrianhajdukiewicz/projects/private/recruitment_2025_data_biz_hackathon\n"
     ]
    },
    {
     "data": {
      "text/plain": [
       "'/Users/adrianhajdukiewicz/projects/private/recruitment_2025_data_biz_hackathon'"
      ]
     },
     "execution_count": 17,
     "metadata": {},
     "output_type": "execute_result"
    }
   ],
   "source": [
    "import pandas as pd\n",
    "import sys\n",
    "import os\n",
    "\n",
    "# Add the src directory to the path so we can import our modules\n",
    "sys.path.append(os.path.abspath('..'))\n",
    "\n",
    "# Import the utility function for one-time directory change\n",
    "from src.utilities.path_utilities import ensure_parent_dir\n",
    "\n",
    "# Change to parent directory (only happens once even if cell is re-executed)\n",
    "ensure_parent_dir('notebook_setup')"
   ]
  }
 ],
 "metadata": {
  "kernelspec": {
   "display_name": ".venv",
   "language": "python",
   "name": "python3"
  },
  "language_info": {
   "codemirror_mode": {
    "name": "ipython",
    "version": 3
   },
   "file_extension": ".py",
   "mimetype": "text/x-python",
   "name": "python",
   "nbconvert_exporter": "python",
   "pygments_lexer": "ipython3",
   "version": "3.12.6"
  }
 },
 "nbformat": 4,
 "nbformat_minor": 5
}
